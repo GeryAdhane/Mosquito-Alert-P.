{
  "nbformat": 4,
  "nbformat_minor": 0,
  "metadata": {
    "colab": {
      "name": "Untitled36.ipynb",
      "provenance": [],
      "authorship_tag": "ABX9TyOSQDlfD23vZwjc1fHE5D1L",
      "include_colab_link": true
    },
    "kernelspec": {
      "name": "python3",
      "display_name": "Python 3"
    },
    "language_info": {
      "name": "python"
    }
  },
  "cells": [
    {
      "cell_type": "markdown",
      "metadata": {
        "id": "view-in-github",
        "colab_type": "text"
      },
      "source": [
        "<a href=\"https://colab.research.google.com/github/ageryw/MosquitoClassification/blob/main/MosquitoAlertProMod.ipynb\" target=\"_parent\"><img src=\"https://colab.research.google.com/assets/colab-badge.svg\" alt=\"Open In Colab\"/></a>"
      ]
    },
    {
      "cell_type": "markdown",
      "metadata": {
        "id": "tf4kkmAYz0sG"
      },
      "source": [
        "# **K-Fold Cross-Validation**"
      ]
    },
    {
      "cell_type": "markdown",
      "metadata": {
        "id": "8WawBPts-XES"
      },
      "source": [
        "## **Vgg16**"
      ]
    },
    {
      "cell_type": "code",
      "metadata": {
        "id": "wmoiYgFS8IKk"
      },
      "source": [
        "!unzip Mosq1.zip"
      ],
      "execution_count": null,
      "outputs": []
    },
    {
      "cell_type": "code",
      "metadata": {
        "id": "VeDtTa-H-opX"
      },
      "source": [
        "import os\n",
        "import torch\n",
        "from torch import nn\n",
        "from torchvision.datasets import MNIST\n",
        "from torchvision import datasets, models, transforms\n",
        "from torch.utils.data import DataLoader, ConcatDataset\n",
        "from torchvision import transforms\n",
        "from sklearn.model_selection import KFold\n",
        "import torch.optim as optim\n",
        "\n",
        "from torch.utils.tensorboard import SummaryWriter\n",
        "from math import sqrt\n",
        "\n",
        "writer = SummaryWriter()"
      ],
      "execution_count": null,
      "outputs": []
    },
    {
      "cell_type": "code",
      "metadata": {
        "id": "cVc3UpNpLQiM"
      },
      "source": [
        "!rm Mosq1.zip"
      ],
      "execution_count": null,
      "outputs": []
    },
    {
      "cell_type": "code",
      "metadata": {
        "id": "-SSIBLjl-XEV"
      },
      "source": [
        "# Configuration options\n",
        "k_folds = 5\n",
        "num_epochs = 10\n",
        "criterion = nn.CrossEntropyLoss()\n",
        "\n",
        "# For fold results\n",
        "results = {}\n",
        "\n",
        "# Set fixed random number seed\n",
        "torch.manual_seed(42)\n",
        "data_transforms = transforms.Compose([\n",
        "    transforms.Resize(256)\n",
        "    transforms.CenterCrop(224),\n",
        "    #transforms.RandomResizedCrop(224),\n",
        "    #transforms.RandomHorizontalFlip(),\n",
        "    transforms.ToTensor(),\n",
        "    transforms.Normalize([0.485, 0.456, 0.406], [0.229, 0.224, 0.225])\n",
        "])\n",
        "\n",
        "data_dir = 'Mosq/'\n",
        "dataset = datasets.ImageFolder(data_dir, data_transforms)\n",
        "device = torch.device(\"cuda:0\" if torch.cuda.is_available() else \"cpu\")\n",
        "# Define the K-fold Cross Validator\n",
        "kfold = KFold(n_splits=k_folds, shuffle=True)\n",
        "  \n",
        "# Start print\n",
        "print('--------------------------------')\n",
        "\n",
        "# K-fold Cross Validation model evaluation\n",
        "for fold, (train_ids, test_ids) in enumerate(kfold.split(dataset)):\n",
        "    print(f'FOLD {fold}')\n",
        "    print('--------------------------------')\n",
        "    # Sample elements randomly from a given list of ids, no replacement.\n",
        "    train_subsampler = torch.utils.data.SubsetRandomSampler(train_ids)\n",
        "    test_subsampler = torch.utils.data.SubsetRandomSampler(test_ids)\n",
        "    \n",
        "    # Define data loaders for training and testing data in this fold\n",
        "    trainloader = torch.utils.data.DataLoader(\n",
        "        dataset,\n",
        "        batch_size=30, sampler=train_subsampler)\n",
        "    testloader = torch.utils.data.DataLoader(\n",
        "        dataset,\n",
        "        batch_size=30, sampler=test_subsampler)\n",
        "    model_ft = models.vgg16(pretrained=True)\n",
        "    num_ftrs = model_ft.classifier[6].in_features\n",
        "    model_ft.classifier[6] = nn.Linear(num_ftrs, 2)\n",
        "    model_ft = model_ft.to(device)\n",
        "    # Observe that all parameters are being optimized\n",
        "    optimizer_ft = optim.SGD(model_ft.parameters(), lr=0.001, momentum=0.7)\n",
        "    for epoch in range(0, num_epochs):\n",
        "        # Print epoch\n",
        "        print(f'Epoch {epoch+1}')\n",
        "        # Set current loss value\n",
        "        current_loss = 0.0\n",
        "        running_corrects = 0\n",
        "        tcorrect, ttotal = 0, 0\n",
        "        # Iterate over the DataLoader for training data\n",
        "        for i, data in enumerate(trainloader):\n",
        "            # Get inputs\n",
        "            inputs, targets = data\n",
        "            inputs, targets = inputs.cuda(), targets.cuda()\n",
        "            # Zero the gradients\n",
        "            optimizer_ft.zero_grad()\n",
        "            # Perform forward pass\n",
        "            outputs = model_ft(inputs)\n",
        "            _, preds = torch.max(outputs.data, 1)\n",
        "            # Compute loss\n",
        "            loss = criterion(outputs, targets)\n",
        "            # Perform backward pass\n",
        "            loss.backward()\n",
        "            # Perform optimization\n",
        "            optimizer_ft.step()\n",
        "            # Print statistics\n",
        "            #=======================================\n",
        "            current_loss += loss.item() * inputs.size(0)\n",
        "            running_corrects += torch.sum(preds == targets.data)\n",
        "            ttotal += targets.size(0)\n",
        "            tcorrect += (preds == targets).sum().item()\n",
        "            #running_corrects += (preds == targets).sum().item()\n",
        "        epoch_loss = current_loss / ttotal\n",
        "        epoch_acc = running_corrects.double() / ttotal\n",
        "        tacc = tcorrect / ttotal\n",
        "        print(f'Train Loss: {epoch_loss:.3f}, Train Acc: {epoch_acc:.3f}, TrainAcc2:{tacc:.3f}')\n",
        "\n",
        "        writer.add_scalar(f'Runs/train/loss/fold{fold}', epoch_loss, epoch)\n",
        "        writer.add_scalar(f'Runs/train/Acc/fold{fold}', epoch_acc, epoch)\n",
        "        correct, total = 0, 0\n",
        "        vcurrent_loss = 0.0\n",
        "        vrunning_corrects = 0\n",
        "        with torch.no_grad():\n",
        "            # Iterate over the test data and generate predictions\n",
        "            for i, data in enumerate(testloader, 0):\n",
        "                # Get inputs\n",
        "                inputs, targets = data\n",
        "                inputs, targets = inputs.cuda(), targets.cuda() \n",
        "                # Generate outputs\n",
        "                outputs = model_ft(inputs)\n",
        "                # Set total and correct\n",
        "                _, preds = torch.max(outputs.data, 1)\n",
        "                loss = criterion(outputs, targets)\n",
        "                total += targets.size(0)\n",
        "                correct += (preds == targets).sum().item()\n",
        "                vcurrent_loss += loss.item() * inputs.size(0)\n",
        "                vrunning_corrects += torch.sum(preds == targets.data)\n",
        "            epoch_loss = vcurrent_loss / total\n",
        "            epoch_acc = vrunning_corrects.double() / total\n",
        "            vtotal = correct / total\n",
        "            print(f'Val Loss: {epoch_loss:.3f}, Val Acc: {epoch_acc:.3f}, Val Acc2: {vtotal:.3f}')\n",
        "\n",
        "            writer.add_scalar(f'Runs/val/loss/fold{fold}', epoch_loss, epoch)\n",
        "            writer.add_scalar(f'Runs/val/Acc/fold{fold}', epoch_acc, epoch)\n",
        "\n",
        "    save_path = f'./model-fold-{fold}.pth'\n",
        "    torch.save(model_ft.state_dict(), save_path)\n",
        "    results[fold] = 100.0 * (correct / total)\n",
        "\n",
        "print('--------------------------------')\n",
        "print(f'K-FOLD CROSS VALIDATION RESULTS FOR {k_folds} FOLDS')\n",
        "print('--------------------------------')\n",
        "sum = 0.0\n",
        "for key, value in results.items():\n",
        "    print(f'Fold {key}: {value} %')\n",
        "    sum += value\n",
        "print(f'Average: {sum/len(results.items())} %')"
      ],
      "execution_count": null,
      "outputs": []
    },
    {
      "cell_type": "code",
      "metadata": {
        "id": "wNrGwF9PmFbZ"
      },
      "source": [
        "%load_ext tensorboard\n",
        "%tensorboard --logdir runs/"
      ],
      "execution_count": null,
      "outputs": []
    },
    {
      "cell_type": "markdown",
      "metadata": {
        "id": "YfBWXxGKvWmF"
      },
      "source": [
        "## **ResNet50**"
      ]
    },
    {
      "cell_type": "code",
      "metadata": {
        "id": "EGR6whL5vWmN"
      },
      "source": [
        "!unzip Mosq.zip"
      ],
      "execution_count": null,
      "outputs": []
    },
    {
      "cell_type": "code",
      "metadata": {
        "id": "opTTka0XvWmP"
      },
      "source": [
        "import os\n",
        "import torch\n",
        "from torch import nn\n",
        "from torchvision.datasets import MNIST\n",
        "from torchvision import datasets, models, transforms\n",
        "from torch.utils.data import DataLoader, ConcatDataset\n",
        "from torchvision import transforms\n",
        "from sklearn.model_selection import KFold\n",
        "import torch.optim as optim\n",
        "\n",
        "from torch.utils.tensorboard import SummaryWriter\n",
        "from math import sqrt\n",
        "\n",
        "writer = SummaryWriter()"
      ],
      "execution_count": null,
      "outputs": []
    },
    {
      "cell_type": "code",
      "metadata": {
        "id": "5l3sBvQ2vWmP"
      },
      "source": [
        "!rm Mosq1.zip"
      ],
      "execution_count": null,
      "outputs": []
    },
    {
      "cell_type": "code",
      "metadata": {
        "id": "LQB9MF4lvWmR"
      },
      "source": [
        "# Configuration options\n",
        "k_folds = 5\n",
        "num_epochs = 10\n",
        "criterion = nn.CrossEntropyLoss()\n",
        "\n",
        "# For fold results\n",
        "results = {}\n",
        "\n",
        "# Set fixed random number seed\n",
        "torch.manual_seed(42)\n",
        "data_transforms = transforms.Compose([\n",
        "    transforms.Resize(256)\n",
        "    transforms.CenterCrop(224),\n",
        "    #transforms.RandomResizedCrop(224),\n",
        "    #transforms.RandomHorizontalFlip(),\n",
        "    transforms.ToTensor(),\n",
        "    transforms.Normalize([0.485, 0.456, 0.406], [0.229, 0.224, 0.225])\n",
        "])\n",
        "\n",
        "data_dir = 'Mosq/'\n",
        "dataset = datasets.ImageFolder(data_dir, data_transforms)\n",
        "device = torch.device(\"cuda:0\" if torch.cuda.is_available() else \"cpu\")\n",
        "# Define the K-fold Cross Validator\n",
        "kfold = KFold(n_splits=k_folds, shuffle=True)\n",
        "  \n",
        "# Start print\n",
        "print('--------------------------------')\n",
        "\n",
        "# K-fold Cross Validation model evaluation\n",
        "for fold, (train_ids, test_ids) in enumerate(kfold.split(dataset)):\n",
        "    print(f'FOLD {fold}')\n",
        "    print('--------------------------------')\n",
        "    # Sample elements randomly from a given list of ids, no replacement.\n",
        "    train_subsampler = torch.utils.data.SubsetRandomSampler(train_ids)\n",
        "    test_subsampler = torch.utils.data.SubsetRandomSampler(test_ids)\n",
        "    \n",
        "    # Define data loaders for training and testing data in this fold\n",
        "    trainloader = torch.utils.data.DataLoader(\n",
        "        dataset,\n",
        "        batch_size=30, sampler=train_subsampler)\n",
        "    testloader = torch.utils.data.DataLoader(\n",
        "        dataset,\n",
        "        batch_size=30, sampler=test_subsampler)\n",
        "    \n",
        "    model_ft = models.resnet50(pretrained=True)\n",
        "    num_ftrs = model_ft.fc.in_features\n",
        "    model_ft.fc = nn.Linear(num_ftrs, 2)\n",
        "    model_ft = model_ft.to(device)\n",
        "    # Observe that all parameters are being optimized\n",
        "    optimizer_ft = optim.SGD(model_ft.parameters(), lr=0.001, momentum=0.7)\n",
        "    for epoch in range(0, num_epochs):\n",
        "        # Print epoch\n",
        "        print(f'Epoch {epoch+1}')\n",
        "        # Set current loss value\n",
        "        current_loss = 0.0\n",
        "        running_corrects = 0\n",
        "        tcorrect, ttotal = 0, 0\n",
        "        # Iterate over the DataLoader for training data\n",
        "        for i, data in enumerate(trainloader):\n",
        "            # Get inputs\n",
        "            inputs, targets = data\n",
        "            inputs, targets = inputs.cuda(), targets.cuda()\n",
        "            # Zero the gradients\n",
        "            optimizer_ft.zero_grad()\n",
        "            # Perform forward pass\n",
        "            outputs = model_ft(inputs)\n",
        "            _, preds = torch.max(outputs.data, 1)\n",
        "            # Compute loss\n",
        "            loss = criterion(outputs, targets)\n",
        "            # Perform backward pass\n",
        "            loss.backward()\n",
        "            # Perform optimization\n",
        "            optimizer_ft.step()\n",
        "            # Print statistics\n",
        "            #=======================================\n",
        "            current_loss += loss.item() * inputs.size(0)\n",
        "            running_corrects += torch.sum(preds == targets.data)\n",
        "            ttotal += targets.size(0)\n",
        "            tcorrect += (preds == targets).sum().item()\n",
        "            #running_corrects += (preds == targets).sum().item()\n",
        "        epoch_loss = current_loss / ttotal\n",
        "        epoch_acc = running_corrects.double() / ttotal\n",
        "        tacc = tcorrect / ttotal\n",
        "        print(f'Train Loss: {epoch_loss:.3f}, Train Acc: {epoch_acc:.3f}, TrainAcc2:{tacc:.3f}')\n",
        "\n",
        "        writer.add_scalar(f'Runs/train/loss/fold{fold}', epoch_loss, epoch)\n",
        "        writer.add_scalar(f'Runs/train/Acc/fold{fold}', epoch_acc, epoch)\n",
        "        correct, total = 0, 0\n",
        "        vcurrent_loss = 0.0\n",
        "        vrunning_corrects = 0\n",
        "        with torch.no_grad():\n",
        "            # Iterate over the test data and generate predictions\n",
        "            for i, data in enumerate(testloader, 0):\n",
        "                # Get inputs\n",
        "                inputs, targets = data\n",
        "                inputs, targets = inputs.cuda(), targets.cuda() \n",
        "                # Generate outputs\n",
        "                outputs = model_ft(inputs)\n",
        "                # Set total and correct\n",
        "                _, preds = torch.max(outputs.data, 1)\n",
        "                loss = criterion(outputs, targets)\n",
        "                total += targets.size(0)\n",
        "                correct += (preds == targets).sum().item()\n",
        "                vcurrent_loss += loss.item() * inputs.size(0)\n",
        "                vrunning_corrects += torch.sum(preds == targets.data)\n",
        "            epoch_loss = vcurrent_loss / total\n",
        "            epoch_acc = vrunning_corrects.double() / total\n",
        "            vtotal = correct / total\n",
        "            print(f'Val Loss: {epoch_loss:.3f}, Val Acc: {epoch_acc:.3f}, Val Acc2: {vtotal:.3f}')\n",
        "\n",
        "            writer.add_scalar(f'Runs/val/loss/fold{fold}', epoch_loss, epoch)\n",
        "            writer.add_scalar(f'Runs/val/Acc/fold{fold}', epoch_acc, epoch)\n",
        "\n",
        "    save_path = f'./model-fold-{fold}.pth'\n",
        "    torch.save(model_ft.state_dict(), save_path)\n",
        "    results[fold] = 100.0 * (correct / total)\n",
        "\n",
        "print('--------------------------------')\n",
        "print(f'K-FOLD CROSS VALIDATION RESULTS FOR {k_folds} FOLDS')\n",
        "print('--------------------------------')\n",
        "sum = 0.0\n",
        "for key, value in results.items():\n",
        "    print(f'Fold {key}: {value} %')\n",
        "    sum += value\n",
        "print(f'Average: {sum/len(results.items())} %')"
      ],
      "execution_count": null,
      "outputs": []
    },
    {
      "cell_type": "code",
      "metadata": {
        "id": "0BaxZJ24vWmS"
      },
      "source": [
        "%load_ext tensorboard\n",
        "%tensorboard --logdir runs/"
      ],
      "execution_count": null,
      "outputs": []
    },
    {
      "cell_type": "markdown",
      "metadata": {
        "id": "SlUETbWiwPsW"
      },
      "source": [
        "# **Generate Confusion Martix**"
      ]
    },
    {
      "cell_type": "code",
      "metadata": {
        "id": "wy049PWu9aJN"
      },
      "source": [
        "from sklearn.metrics import confusion_matrix\n",
        "import itertools\n",
        "import numpy as np\n",
        "import matplotlib.pyplot as plt\n",
        "\n",
        "def plot_confusion_matrix(cm, classes, normalize=False, title='Confusion matrix', cmap=plt.cm.Blues):\n",
        "    if normalize:\n",
        "        cm = cm.astype('float') / cm.sum(axis=1)[:, np.newaxis]\n",
        "        print(\"Normalized confusion matrix\")\n",
        "    else:\n",
        "        print('Confusion matrix, without normalization')\n",
        "\n",
        "    print(cm)\n",
        "    plt.imshow(cm, interpolation='nearest', cmap=cmap)\n",
        "    plt.title(title)\n",
        "    plt.colorbar()\n",
        "    tick_marks = np.arange(len(classes))\n",
        "    plt.xticks(tick_marks, classes, rotation=45)\n",
        "    plt.yticks(tick_marks, classes)\n",
        "\n",
        "    fmt = '.2f' if normalize else 'd'\n",
        "    thresh = cm.max() / 2.\n",
        "    for i, j in itertools.product(range(cm.shape[0]), range(cm.shape[1])):\n",
        "        plt.text(j, i, format(cm[i, j], fmt), horizontalalignment=\"center\", color=\"white\" if cm[i, j] > thresh else \"black\")\n",
        "\n",
        "    plt.tight_layout()\n",
        "    plt.ylabel('True label')\n",
        "    plt.xlabel('Predicted label')"
      ],
      "execution_count": null,
      "outputs": []
    },
    {
      "cell_type": "code",
      "metadata": {
        "id": "h-z6TDZT-Kzs",
        "colab": {
          "base_uri": "https://localhost:8080/",
          "height": 650
        },
        "outputId": "84974647-913d-4fb6-8933-903d51473def"
      },
      "source": [
        "from sklearn.metrics import confusion_matrix\n",
        "nb_classes = 2\n",
        "\n",
        "# Initialize the prediction and label lists(tensors)\n",
        "predlist=torch.zeros(0,dtype=torch.long, device='cpu')\n",
        "lbllist=torch.zeros(0,dtype=torch.long, device='cpu')\n",
        "\n",
        "with torch.no_grad():\n",
        "    for i, (inputs, classes) in enumerate(dataloaders['train']):\n",
        "        inputs = inputs.to(device)\n",
        "        classes = classes.to(device)\n",
        "        outputs = model_ft(inputs)\n",
        "        _, preds = torch.max(outputs, 1)\n",
        "\n",
        "        # Append batch prediction results\n",
        "        predlist=torch.cat([predlist,preds.view(-1).cpu()])\n",
        "        lbllist=torch.cat([lbllist,classes.view(-1).cpu()])\n",
        "\n",
        "cm = confusion_matrix(lbllist.numpy(), predlist.numpy())\n",
        "\n",
        "#import seaborn as sns\n",
        "\n",
        "#names = ('AeAl', 'NoAeAl')\n",
        "plt.figure(figsize=(10,8))\n",
        "#sns.heatmap(confusion_matrix(testGen.classes, y_pred), annot=True, fmt=\"d\")\n",
        "#sns.heatmap(confusion_matrix(testGen.classes, names), annot=True, fmt=\"d\")\n",
        "names = (\n",
        "    'Tiger'\n",
        "    ,'NonTiger'\n",
        ")\n",
        "\n",
        "plot_confusion_matrix(cm, names)"
      ],
      "execution_count": null,
      "outputs": [
        {
          "output_type": "stream",
          "text": [
            "Confusion matrix, without normalization\n",
            "[[2355  344]\n",
            " [  64 2340]]\n"
          ],
          "name": "stdout"
        },
        {
          "output_type": "display_data",
          "data": {
            "image/png": "[encoded data removed]",
            "text/plain": [
              "<Figure size 720x576 with 2 Axes>"
            ]
          },
          "metadata": {
            "tags": [],
            "needs_background": "light"
          }
        }
      ]
    },
    {
      "cell_type": "code",
      "metadata": {
        "id": "7n9yIta_lZl8",
        "colab": {
          "base_uri": "https://localhost:8080/"
        },
        "outputId": "0d646cfe-d24a-4476-d542-82b0e16574be"
      },
      "source": [
        "print(classification_report(lbllist.numpy(), predlist.numpy()))"
      ],
      "execution_count": null,
      "outputs": [
        {
          "output_type": "stream",
          "text": [
            "              precision    recall  f1-score   support\n",
            "\n",
            "           0       0.97      0.87      0.92      2699\n",
            "           1       0.87      0.97      0.92      2404\n",
            "\n",
            "    accuracy                           0.92      5103\n",
            "   macro avg       0.92      0.92      0.92      5103\n",
            "weighted avg       0.93      0.92      0.92      5103\n",
            "\n"
          ],
          "name": "stdout"
        }
      ]
    },
    {
      "cell_type": "code",
      "metadata": {
        "id": "4f2X6FPWrzUs",
        "colab": {
          "base_uri": "https://localhost:8080/"
        },
        "outputId": "b7605698-2f49-449a-ca6a-5fe2eb11eced"
      },
      "source": [
        "!zip -r runs.zip runs"
      ],
      "execution_count": null,
      "outputs": [
        {
          "output_type": "stream",
          "text": [
            "  adding: runs/ (stored 0%)\n",
            "  adding: runs/Mar15_11-23-51_71103b93e0fd/ (stored 0%)\n",
            "  adding: runs/Mar15_11-23-51_71103b93e0fd/events.out.tfevents.1615807432.71103b93e0fd.994.0 (deflated 67%)\n"
          ],
          "name": "stdout"
        }
      ]
    },
    {
      "cell_type": "markdown",
      "metadata": {
        "id": "R7t8RhJwV-Fx"
      },
      "source": [
        "# **Generate Grad-Cam Explanation**"
      ]
    },
    {
      "cell_type": "code",
      "metadata": {
        "id": "7u6JgReAV-GC"
      },
      "source": [
        "from collections import OrderedDict\n",
        "\n",
        "import numpy as np\n",
        "import torch\n",
        "import cv2\n",
        "from torch.nn import functional as F\n",
        "\n",
        "        "
      ],
      "execution_count": null,
      "outputs": []
    },
    {
      "cell_type": "code",
      "metadata": {
        "id": "QyknB14bV-GN"
      },
      "source": [
        "# -- GradCAM --\n",
        "# Author:   Kazuto Nakashima\n",
        "# URL:      http://kazuto1011.github.io\n",
        "# Created:  2017-05-26\n",
        "\n",
        "def normalize(input):\n",
        "    output = (input - np.min(input)) / (np.max(input) - np.min(input))\n",
        "    return output\n"
      ],
      "execution_count": null,
      "outputs": []
    },
    {
      "cell_type": "code",
      "metadata": {
        "id": "cl5FvM1J5_hA"
      },
      "source": [
        "\n",
        "def save_gradient(filename, data):\n",
        "    data -= data.min()\n",
        "    data /= data.max()\n",
        "    data *= 255.0\n",
        "    cv2.imwrite(filename, np.uint8(data))"
      ],
      "execution_count": null,
      "outputs": []
    },
    {
      "cell_type": "code",
      "metadata": {
        "id": "YPzhpZov6CxR"
      },
      "source": [
        "def save_gradcam(filename, gcam, raw_image):\n",
        "    \n",
        "    h, w, _ = raw_image.shape\n",
        "    gcam = cv2.resize(gcam, (w, h))\n",
        "    \n",
        "    gcam = cv2.applyColorMap(np.uint8(gcam * 255.0), cv2.COLORMAP_JET)\n",
        "    #cv2.imshow(gcam)\n",
        "    \n",
        "    gcam = gcam.astype(np.float) + raw_image.astype(np.float)\n",
        "    gcam = gcam / gcam.max() * 255.0\n",
        "    cv2.imwrite(filename, np.uint8(gcam))\n",
        "    cv2.rectangle(gcam,(384,0),(510,128),(0,255,0),3)\n",
        "    plt.imshow(np.uint8(gcam))\n",
        "    plt.show()"
      ],
      "execution_count": null,
      "outputs": []
    },
    {
      "cell_type": "code",
      "metadata": {
        "id": "QQX3OrtW6Hg9"
      },
      "source": [
        "def save_raw_image(filename, raw_image):\n",
        "    cv2.imwrite(filename, np.uint8(raw_image))"
      ],
      "execution_count": null,
      "outputs": []
    },
    {
      "cell_type": "code",
      "metadata": {
        "id": "6nuSnfs-6QYd"
      },
      "source": [
        "class _PropagationBase(object):\n",
        "    def __init__(self, model):\n",
        "        super(_PropagationBase, self).__init__()\n",
        "        self.device = next(model.parameters()).device\n",
        "        self.model = model\n",
        "        self.image = None\n",
        "\n",
        "    def _encode_one_hot(self, idx):\n",
        "        one_hot = torch.FloatTensor(1, self.preds.size()[-1]).zero_()\n",
        "        one_hot[0][idx] = 1.0\n",
        "        return one_hot.to(self.device)\n",
        "\n",
        "    def forward(self, image):\n",
        "        self.image = image.requires_grad_()\n",
        "        self.model.zero_grad()\n",
        "        self.preds = self.model(self.image)\n",
        "        self.probs = F.softmax(self.preds, dim=1)[0]\n",
        "        self.prob, self.idx = self.probs.sort(0, True)\n",
        "        return self.prob, self.idx\n",
        "\n",
        "    def backward(self, idx):\n",
        "        one_hot = self._encode_one_hot(idx)\n",
        "        self.preds.backward(gradient=one_hot, retain_graph=True)"
      ],
      "execution_count": null,
      "outputs": []
    },
    {
      "cell_type": "code",
      "metadata": {
        "id": "QZpKd0Rt6QfB"
      },
      "source": [
        "class GradCAM(_PropagationBase):\n",
        "    def __init__(self, model):\n",
        "        super(GradCAM, self).__init__(model)\n",
        "        self.all_fmaps = OrderedDict()\n",
        "        self.all_grads = OrderedDict()\n",
        "\n",
        "        def func_f(module, input, output):\n",
        "            self.all_fmaps[id(module)] = output.detach()\n",
        "\n",
        "        def func_b(module, grad_in, grad_out):\n",
        "            self.all_grads[id(module)] = grad_out[0].detach()\n",
        "\n",
        "        for module in self.model.named_modules():\n",
        "            module[1].register_forward_hook(func_f)\n",
        "            module[1].register_backward_hook(func_b)\n",
        "\n",
        "    def _find(self, outputs, target_layer):\n",
        "        for key, value in outputs.items():\n",
        "            for module in self.model.named_modules():\n",
        "                if id(module[1]) == key:\n",
        "                    if module[0] == target_layer:\n",
        "                        return value\n",
        "        raise ValueError('Invalid layer name: {}'.format(target_layer))\n",
        "\n",
        "    def _normalize(self, grads):\n",
        "        l2_norm = torch.sqrt(torch.mean(torch.pow(grads, 2))) + 1e-5\n",
        "        return grads / l2_norm\n",
        "\n",
        "    def _compute_grad_weights(self, grads):\n",
        "        grads = self._normalize(grads)\n",
        "        return F.adaptive_avg_pool2d(grads, 1)\n",
        "\n",
        "    def generate(self, target_layer):\n",
        "        fmaps = self._find(self.all_fmaps, target_layer)\n",
        "        grads = self._find(self.all_grads, target_layer)\n",
        "        weights = self._compute_grad_weights(grads)\n",
        "        gcam = (fmaps[0] * weights[0]).sum(dim=0)\n",
        "        \n",
        "        gcam = torch.clamp(gcam, min=0.)\n",
        "\n",
        "        gcam -= gcam.min()\n",
        "        gcam /= gcam.max()\n",
        "        return gcam.detach().cpu().numpy()"
      ],
      "execution_count": null,
      "outputs": []
    },
    {
      "cell_type": "code",
      "metadata": {
        "id": "3g3UBe5x6jnj"
      },
      "source": [
        "from torchvision import models, transforms\n",
        "from torch.autograd import Variable\n",
        "from PIL import Image\n",
        "import os\n"
      ],
      "execution_count": null,
      "outputs": []
    },
    {
      "cell_type": "code",
      "metadata": {
        "id": "9xKxIWe-6x0G"
      },
      "source": [
        "weights ='model.pth'#Pre-trained weight file (*.pth)\n",
        "input = 'images/002842.png'#Directory for an input image\n",
        "output = 'gradcams'#Directory for the visualization result"
      ],
      "execution_count": null,
      "outputs": []
    },
    {
      "cell_type": "code",
      "metadata": {
        "id": "5aPnGEMc61cg"
      },
      "source": [
        "\n",
        "device = torch.device(\"cuda:0\" if torch.cuda.is_available() else \"cpu\")\n",
        "\n",
        "classes = [\"Tiger\", \"Non-tiger\"]\n",
        "\n",
        "if (os.path.isdir(output)):\n",
        "    print('Output directory exists')\n",
        "else:\n",
        "    os.mkdir(output)\n",
        "\n",
        "model = models.vgg16(pretrained=True)\n",
        "model.classifier[6] = torch.nn.Linear(4096,2)\n",
        "#model = torch.nn.DataParallel(model)\n",
        "model.load_state_dict(torch.load(weights))\n",
        "#model = model.module\n",
        "model.eval()\n",
        "model.to(device)\n",
        "\n",
        "data_transforms = transforms.Compose([\n",
        "    transforms.ToTensor()\n",
        "])\n",
        "\n",
        "### Target layers (VGG16)\n",
        "targets = [\n",
        "    \"features.0\",\n",
        "    \"features.2\",\n",
        "    \"features.4\",\n",
        "    \"features.5\",\n",
        "    \"features.7\",\n",
        "    \"features.10\",\n",
        "    \"features.12\",\n",
        "    \"features.14\",\n",
        "    \"features.17\",\n",
        "    \"features.19\",\n",
        "    \"features.21\",\n",
        "    \"features.24\",\n",
        "    \"features.26\",\n",
        "    \"features.28\",\n",
        "    \"features.30\",\n",
        "]\n",
        "### Target layers (VGG19)\n",
        "'''\n",
        "targets = [\n",
        "    \"features.0\",\n",
        "    \"features.2\",\n",
        "    \"features.5\",\n",
        "    \"features.7\",\n",
        "    \"features.10\",\n",
        "    \"features.12\",\n",
        "    \"features.14\",\n",
        "    \"features.16\",\n",
        "    \"features.19\",\n",
        "    \"features.21\",\n",
        "    \"features.23\",\n",
        "    \"features.25\",\n",
        "    \"features.28\",\n",
        "    \"features.30\",\n",
        "    \"features.32\",\n",
        "    \"features.34\",\n",
        "    \"features.36\",\n",
        "]\n",
        "'''\n",
        "image_num = 0\n",
        "input_image = input\n",
        "\n",
        "# =========================================================================\n",
        "print('='*20)\n",
        "# =========================================================================\n",
        "\n",
        "print(f\"Processing image \\'{input_image}\\'\")\n",
        "\n",
        "raw_image = cv2.imread(input_image)[..., ::-1]\n",
        "im_pil = Image.fromarray(raw_image)\n",
        "\n",
        "image = data_transforms(im_pil).unsqueeze(0)\n",
        "image_var = Variable(image)\n",
        "\n",
        "a = transforms.ToPILImage()(image.squeeze())\n",
        "\n",
        "tr_image = np.asarray(np.transpose(image.squeeze(0),(1,2,0)))\n",
        "tr_image = cv2.cvtColor(tr_image,cv2.COLOR_BGR2RGB)\n",
        "tr_image = np.uint8(normalize(tr_image)*255)\n",
        "image_name = input_image.split(sep=\"/\")[-1].split(sep=\".\")[-2]\n",
        "save_dir = os.path.join(output,image_name)\n",
        "if(os.path.isdir(save_dir)):\n",
        "    print('Save directory exists')\n",
        "else:\n",
        "    os.mkdir(save_dir)\n",
        "print('Visualization saved to : ',save_dir)\n",
        "\n",
        "a.save(os.path.join(save_dir,'_input_image'+'.jpg'))\n",
        "gcam = GradCAM(model=model)\n",
        "print('-------------------')\n",
        "print(gcam)\n",
        "probs, idx = gcam.forward(image_var.to(device))\n",
        "\n",
        "print(\"-\"*30)\n",
        "print(\"|  Probability  |    Class   |\")\n",
        "print(\"-\"*30)\n",
        "for i in range(0, 2):\n",
        "    for j in range(0,len(targets)):\n",
        "        gcam.backward(idx=idx[i])\n",
        "        output = gcam.generate(target_layer=targets[j])\n",
        "        # Filename : {ClassName}_gcam_{NumLayer}\n",
        "        save_gradcam(save_dir+'/{}_gcam_{}.png'.format(classes[idx[i]], targets[j]), output, tr_image)\n",
        "    print('[{:.5f}] {}'.format(probs[i], classes[idx[i]]))\n"
      ],
      "execution_count": null,
      "outputs": []
    },
    {
      "cell_type": "code",
      "metadata": {
        "id": "zlv4VfFmKqU4"
      },
      "source": [
        "!zip -r gradcams.zip gradcams/"
      ],
      "execution_count": null,
      "outputs": []
    },
    {
      "cell_type": "markdown",
      "metadata": {
        "id": "5WDIgnljIXwV"
      },
      "source": [
        "# **Fine-Tuning (VGG16 and ResNet50)-**"
      ]
    },
    {
      "cell_type": "code",
      "metadata": {
        "id": "sZvMRwDnIXwb"
      },
      "source": [
        "from __future__ import print_function, division\n",
        "\n",
        "import torch\n",
        "import torch.nn as nn\n",
        "import torch.optim as optim\n",
        "from torch.optim import lr_scheduler\n",
        "import torchvision\n",
        "from torchvision import datasets, models, transforms\n",
        "import matplotlib.pyplot as plt\n",
        "import time\n",
        "import os\n",
        "import copy\n",
        "from sklearn.metrics import classification_report\n",
        "import numpy as np\n",
        "\n",
        "plt.ion() "
      ],
      "execution_count": null,
      "outputs": []
    },
    {
      "cell_type": "code",
      "metadata": {
        "id": "kpphgtFJIfVJ"
      },
      "source": [
        "!unzip Mosq.zip"
      ],
      "execution_count": null,
      "outputs": []
    },
    {
      "cell_type": "code",
      "metadata": {
        "id": "x7QtoOszIk9v"
      },
      "source": [
        "!rm Mosq.zip"
      ],
      "execution_count": null,
      "outputs": []
    },
    {
      "cell_type": "code",
      "metadata": {
        "id": "aRW75xO4IXwn"
      },
      "source": [
        "data_transforms = {\n",
        "    'train': transforms.Compose([\n",
        "        transforms.Resize(256)\n",
        "        transforms.CenterCrop(224),\n",
        "        #transforms.RandomResizedCrop(224),\n",
        "        #transforms.RandomHorizontalFlip(),\n",
        "        transforms.ToTensor(),\n",
        "        transforms.Normalize([0.485, 0.456, 0.406], [0.229, 0.224, 0.225])\n",
        "    ]),\n",
        "    'val': transforms.Compose([\n",
        "        transforms.Resize(256),\n",
        "        transforms.CenterCrop(224),\n",
        "        transforms.ToTensor(),\n",
        "        transforms.Normalize([0.643, 0.661, 0.634], [0.202, 0.204, 0.205])\n",
        "    ]),\n",
        "}\n",
        "\n",
        "data_dir = 'Mosq/'\n",
        "image_datasets = {x: datasets.ImageFolder(os.path.join(data_dir, x),\n",
        "                                          data_transforms[x])\n",
        "                  for x in ['train', 'val']}\n",
        "dataloaders = {x: torch.utils.data.DataLoader(image_datasets[x], batch_size=32,\n",
        "                                             shuffle=True, num_workers=2)\n",
        "              for x in ['train', 'val']}\n",
        "dataset_sizes = {x: len(image_datasets[x]) for x in ['train', 'val']}\n",
        "class_names = image_datasets['train'].classes\n",
        "\n",
        "device = torch.device(\"cuda:0\" if torch.cuda.is_available() else \"cpu\")"
      ],
      "execution_count": null,
      "outputs": []
    },
    {
      "cell_type": "code",
      "metadata": {
        "id": "MOEHR25QeEzy"
      },
      "source": [
        "n_epochs = 25\n",
        "print_every = 10\n",
        "val_loss = []\n",
        "val_acc = []\n",
        "train_loss = []\n",
        "train_acc = []\n",
        "############\n",
        "test_acc = []\n",
        "test_loss = []\n",
        "##############\n",
        "predlist=[]\n",
        "lbllist=[]\n",
        "#===========\n",
        "##############\n",
        "tpredlist=[]\n",
        "tlbllist=[]\n",
        "#=========\n",
        "trstd = []\n",
        "vlstd = []\n"
      ],
      "execution_count": null,
      "outputs": []
    },
    {
      "cell_type": "code",
      "metadata": {
        "id": "rJDo2fY5IXwz"
      },
      "source": [
        "from torch.utils.tensorboard import SummaryWriter\n",
        "from math import sqrt\n",
        "\n",
        "writer = SummaryWriter()\n",
        "\n",
        "def train_model(model, criterion, optimizer, scheduler, num_epochs=25):\n",
        "    since = time.time()\n",
        "    best_model_wts = copy.deepcopy(model.state_dict())\n",
        "    best_acc = 0.0\n",
        "\n",
        "    #stdtr_temp = []\n",
        "    #stdvl_temp = []\n",
        "    for epoch in range(num_epochs):\n",
        "        print('Epoch {}/{}'.format(epoch, num_epochs - 1))\n",
        "        print('-' * 10)\n",
        "\n",
        "        # Each epoch has a training and validation phase\n",
        "        for phase in ['train', 'val']:\n",
        "            if phase == 'train':\n",
        "                model.train()  # Set model to training mode\n",
        "            else:\n",
        "                model.eval()   # Set model to evaluate mode\n",
        "\n",
        "            running_loss = 0.0\n",
        "            running_corrects = 0\n",
        "\n",
        "            # Iterate over data.\n",
        "            for inputs, labels in dataloaders[phase]:\n",
        "                inputs = inputs.to(device)\n",
        "                labels = labels.to(device)\n",
        "\n",
        "                # zero the parameter gradients\n",
        "                optimizer.zero_grad()\n",
        "\n",
        "                # forward\n",
        "                # track history if only in train\n",
        "                with torch.set_grad_enabled(phase == 'train'):\n",
        "                    outputs = model(inputs)\n",
        "                    _, preds = torch.max(outputs, 1)\n",
        "                    loss = criterion(outputs, labels)\n",
        "                    \n",
        "\n",
        "                    # backward + optimize only if in training phase\n",
        "                    if phase == 'train':\n",
        "                        loss.backward()\n",
        "                        optimizer.step()\n",
        "\n",
        "                # statistics\n",
        "                running_loss += loss.item() * inputs.size(0)\n",
        "                running_corrects += torch.sum(preds == labels.data)\n",
        "                curr_train_samples = preds.size(0)\n",
        "\n",
        "            #================================================\n",
        "            predlist.append(preds.view(-1).cpu())\n",
        "            lbllist.append(labels.view(-1).cpu())\n",
        "            #=================================================\n",
        "            if phase == 'train':\n",
        "                scheduler.step()\n",
        "\n",
        "            epoch_loss = running_loss / dataset_sizes[phase]\n",
        "            epoch_acc = running_corrects.double() / dataset_sizes[phase]\n",
        "\n",
        "            if phase == 'train':\n",
        "                train_loss.append(epoch_loss)\n",
        "                train_acc.append(epoch_acc)\n",
        "                #stdtr_temp.append(epoch_acc)\n",
        "                writer.add_scalar(f'Runs/Loss/train', epoch_loss, epoch)\n",
        "                writer.add_scalar(f'Runs/Accuracy/train', epoch_acc, epoch)\n",
        "            if phase == 'val':\n",
        "                val_loss.append(epoch_loss)\n",
        "                val_acc.append(epoch_acc)\n",
        "                #stdvl_temp.append(epoch_acc)\n",
        "                writer.add_scalar(f'Runs/Loss/val', epoch_loss, epoch)\n",
        "                writer.add_scalar(f'Runs/Accuracy/val', epoch_acc, epoch)\n",
        "\n",
        "            print('{} Loss: {:.4f} Acc: {:.4f}'.format(phase, epoch_loss, epoch_acc))\n",
        "\n",
        "            # deep copy the model\n",
        "            if phase == 'val' and epoch_acc > best_acc:\n",
        "                best_acc = epoch_acc\n",
        "                best_model_wts = copy.deepcopy(model.state_dict())\n",
        "\n",
        "            '''if epoch%2 == 0 and epoch != 0:\n",
        "                trstd.append(np.std(stdtr_temp))\n",
        "                vlstd.append(np.std(stdvl_temp))\n",
        "                stdtr_temp = []\n",
        "                stdvl_temp = []'''\n",
        "\n",
        "        print()\n",
        "    #Calculating conffidence\n",
        "    tavg_acc = sum(train_acc)/len(train_acc)\n",
        "    vavg_acc = sum(val_acc)/len(val_acc)\n",
        "\n",
        "    cinterval_train = 1.96 * sqrt( (tavg_acc * (100 - tavg_acc)) / dataset_sizes['train'])\n",
        "    print(f'Train Confidence Interval:{cinterval_train:3f}')\n",
        "    cinterval_val = 1.96 * sqrt( (vavg_acc * (100 - vavg_acc)) / dataset_sizes['val'])\n",
        "    print(f'Validation Confidence Interval:{cinterval_val:3f}')\n",
        "    time_elapsed = time.time() - since\n",
        "    print('Training complete in {:.0f}m {:.0f}s'.format(\n",
        "        time_elapsed // 60, time_elapsed % 60))\n",
        "\n",
        "    print(f'Average Training Accuracy:{tavg_acc:3f}')\n",
        "    print(f'Average Validation  Accuracy:{vavg_acc:3f}')\n",
        "    print('Best val Acc: {:4f}'.format(best_acc))\n",
        "\n",
        "    # load best model weights\n",
        "    model.load_state_dict(best_model_wts)\n",
        "    return model"
      ],
      "execution_count": null,
      "outputs": []
    },
    {
      "cell_type": "code",
      "metadata": {
        "id": "fxARi7kbIXw6"
      },
      "source": [
        "model_ft = models.vgg16(pretrained=True)\n",
        "#num_ftrs = model_ft.classifier[0].out_features\n",
        "num_ftrs = model_ft.classifier[6].in_features\n",
        "# Here the size of each output sample is set to 2.\n",
        "# Alternatively, it can be generalized to nn.Linear(num_ftrs, len(class_names)).\n",
        "model_ft.classifier[6] = nn.Linear(num_ftrs, 2)\n",
        "model_ft = model_ft.to(device)\n",
        "criterion = nn.CrossEntropyLoss()\n",
        "\n",
        "# Observe that all parameters are being optimized\n",
        "optimizer_ft = optim.SGD(model_ft.parameters(), lr=0.001, momentum=0.7)\n",
        "\n",
        "# Decay LR by a factor of 0.1 every 7 epochs\n",
        "exp_lr_scheduler = lr_scheduler.StepLR(optimizer_ft, step_size=7, gamma=0.1)\n"
      ],
      "execution_count": null,
      "outputs": []
    },
    {
      "cell_type": "code",
      "metadata": {
        "id": "nE-Sqtdq2Wh_"
      },
      "source": [
        "#ResNet50- To train on ResNet50 uncomment this section and comment the Vgg16 section.\n",
        "'''model_ft = models.resnet50(pretrained=True)\n",
        "num_ftrs = model_ft.fc.in_features\n",
        "# Here the size of each output sample is set to 2.\n",
        "# Alternatively, it can be generalized to nn.Linear(num_ftrs, len(class_names)).\n",
        "model_ft.fc = nn.Linear(num_ftrs, 2)\n",
        "\n",
        "model_ft = model_ft.to(device)\n",
        "\n",
        "criterion = nn.CrossEntropyLoss()\n",
        "\n",
        "# Observe that all parameters are being optimized\n",
        "optimizer_ft = optim.SGD(model_ft.parameters(), lr=0.001, momentum=0.9)\n",
        "\n",
        "# Decay LR by a factor of 0.1 every 7 epochs\n",
        "exp_lr_scheduler = lr_scheduler.StepLR(optimizer_ft, step_size=7, gamma=0.1)"
      ],
      "execution_count": null,
      "outputs": []
    },
    {
      "cell_type": "code",
      "metadata": {
        "id": "v0hAmIeFIXw-"
      },
      "source": [
        "# Train the model\n",
        "model_ft = train_model(model_ft, criterion, optimizer_ft, exp_lr_scheduler, num_epochs=25)\n",
        "# Save the model\n",
        "torch.save(model_ft,'model.h5')"
      ],
      "execution_count": null,
      "outputs": []
    },
    {
      "cell_type": "code",
      "metadata": {
        "id": "xisVn06QoPWy",
        "colab": {
          "base_uri": "https://localhost:8080/",
          "height": 507
        },
        "outputId": "dc2c3f34-ee64-418f-dfda-6cc7a84ec369"
      },
      "source": [
        "fig = plt.figure(figsize=(20,10))\n",
        "plt.title(\"Train - Validation Accuracy/Loss\")\n",
        "plt.plot(train_acc, label='Train Accuracy')\n",
        "plt.plot(val_acc, label='Validation Accuracy')\n",
        "plt.plot( train_loss, label='Train Loss')\n",
        "plt.plot( val_loss, label='Validation Loss')\n",
        "plt.xlabel('num_epochs', fontsize=12)\n",
        "plt.ylabel('accuracy', fontsize=12)\n",
        "plt.legend(loc='best')\n",
        "plt.grid()\n",
        "plt.show()"
      ],
      "execution_count": null,
      "outputs": [
        {
          "output_type": "display_data",
          "data": {
            "image/png": "[encoded data removed]",
            "text/plain": [
              "<Figure size 1440x720 with 1 Axes>"
            ]
          },
          "metadata": {
            "tags": [],
            "needs_background": "light"
          }
        }
      ]
    },
    {
      "cell_type": "code",
      "metadata": {
        "id": "Ve9K8QNrV5Ue"
      },
      "source": [
        "%load_ext tensorboard\n",
        "%tensorboard --logdir runs/"
      ],
      "execution_count": null,
      "outputs": []
    },
    {
      "cell_type": "code",
      "metadata": {
        "id": "o8kvaLj59Eep",
        "colab": {
          "base_uri": "https://localhost:8080/"
        },
        "outputId": "881bffff-8e94-4fb4-98e7-e35ebba47197"
      },
      "source": [
        "!zip -r runs.zip runs/"
      ],
      "execution_count": null,
      "outputs": [
        {
          "output_type": "stream",
          "text": [
            "  adding: runs/ (stored 0%)\n",
            "  adding: runs/Mar12_15-02-00_efc66d46f809/ (stored 0%)\n",
            "  adding: runs/Mar12_15-02-00_efc66d46f809/events.out.tfevents.1615561321.efc66d46f809.58.0 (deflated 67%)\n"
          ],
          "name": "stdout"
        }
      ]
    },
    {
      "cell_type": "code",
      "metadata": {
        "id": "i2Ycws4rIXwt"
      },
      "source": [
        "def imshow(inp, title=None):\n",
        "    \"\"\"Imshow for Tensor.\"\"\"\n",
        "    inp = inp.numpy().transpose((1, 2, 0))\n",
        "    mean = np.array([0.485, 0.456, 0.406])\n",
        "    std = np.array([0.229, 0.224, 0.225])\n",
        "    inp = std * inp + mean\n",
        "    inp = np.clip(inp, 0, 1)\n",
        "    plt.imshow(inp)\n",
        "    if title is not None:\n",
        "        plt.title(title)\n",
        "    plt.pause(0.001)  # pause a bit so that plots are updated\n",
        "\n",
        "# Get a batch of training data\n",
        "inputs, classes = next(iter(dataloaders['train']))\n",
        "# Make a grid from batch\n",
        "out = torchvision.utils.make_grid(inputs)\n",
        "imshow(out, title=[class_names[x] for x in classes])"
      ],
      "execution_count": null,
      "outputs": []
    },
    {
      "cell_type": "code",
      "metadata": {
        "id": "AxOTItQiIXw3"
      },
      "source": [
        "import torch.nn.functional as nnf\n",
        "\n",
        "def visualize_model(model, num_images=6):\n",
        "    was_training = model.training\n",
        "    model.eval()\n",
        "    images_so_far = 0\n",
        "    \n",
        "    with torch.no_grad():\n",
        "        for i, (inputs, labels) in enumerate(dataloaders['val']):\n",
        "            inputs = inputs.to(device)\n",
        "            labels = labels.to(device)\n",
        "\n",
        "            outputs = model(inputs)\n",
        "            _, preds = torch.max(outputs, 1)\n",
        "            #=======================================\n",
        "            prob = nnf.softmax(outputs, dim=1)\n",
        "            top_p, top_class = prob.topk(1, dim = 1)\n",
        "            #=======================================\n",
        "            \n",
        "            for j in range(inputs.size()[0]):\n",
        "                images_so_far += 1\n",
        "                fig = plt.figure(figsize=(10,10))\n",
        "                ax = plt.subplot(num_images//2, 2, images_so_far)\n",
        "                ax.axis('off')\n",
        "                #=======================================\n",
        "                toppr = top_p[j]*100\n",
        "                topprnp = toppr.cpu().numpy()\n",
        "                conv = np.around(topprnp, decimals=2)\n",
        "\n",
        "                ax.set_title('{}% {}'.format(conv, class_names[preds[j]]))\n",
        "                #=======================================\n",
        "                \n",
        "                imshow(inputs.cpu().data[j])\n",
        "\n",
        "                if images_so_far == num_images:\n",
        "                    model.train(mode=was_training)\n",
        "                    return\n",
        "        model.train(mode=was_training)"
      ],
      "execution_count": null,
      "outputs": []
    },
    {
      "cell_type": "code",
      "metadata": {
        "id": "rAgdkh7cIXxE"
      },
      "source": [
        "visualize_model(model_ft)"
      ],
      "execution_count": null,
      "outputs": []
    },
    {
      "cell_type": "code",
      "metadata": {
        "id": "YKk4x_jdIXxQ"
      },
      "source": [
        "from torch.autograd import Variable\n",
        "\n",
        "def test(model,dataloader,device,batch_size):\n",
        "    running_corrects = 0\n",
        "    running_loss=0\n",
        "    pred = []\n",
        "    true = []\n",
        "    pred_wrong = []\n",
        "    true_wrong = []\n",
        "    image = []\n",
        "    #================\n",
        "    prob = []\n",
        "    #================\n",
        "    sm = nn.Softmax(dim = 1)\n",
        "    criterion = nn.CrossEntropyLoss()\n",
        "\n",
        "    for batch_idx, (data, target) in enumerate(dataloaders['test']):\n",
        "        data, target = Variable(data), Variable(target)\n",
        "        data = data.type(torch.FloatTensor).to(device)\n",
        "        target = target.type(torch.LongTensor).to(device)\n",
        "        model.eval()\n",
        "        output = model(data)\n",
        "        loss = criterion(output, target)\n",
        "        output = sm(output)\n",
        "        _, preds = torch.max(output, 1)\n",
        "        #=======================================\n",
        "        top_p, top_class = output.topk(1, dim = 1)\n",
        "        #=======================================\n",
        "        running_corrects = running_corrects + torch.sum(preds == target.data)\n",
        "        running_loss += loss.item() * data.size(0)\n",
        "        preds = preds.cpu().numpy()\n",
        "        target = target.cpu().numpy()\n",
        "        preds = np.reshape(preds,(len(preds),1))\n",
        "        target = np.reshape(target,(len(preds),1))\n",
        "        data = data.cpu().numpy()\n",
        "  \n",
        "        for i in range(len(preds)):\n",
        "            pred.append(preds[i])\n",
        "            true.append(target[i])\n",
        "            if(preds[i]!=target[i]):\n",
        "                pred_wrong.append(preds[i])\n",
        "                true_wrong.append(target[i])\n",
        "                image.append(data[i])\n",
        "                #=================\n",
        "                toppr = top_p[i]*100\n",
        "               #print(toppr.type)\n",
        "                #print(toppr)\n",
        "                topprnp = toppr.detach()\n",
        "                topprnp = topprnp.cpu().numpy()\n",
        "                conv = np.around(topprnp, decimals=2)\n",
        "                prob.append(conv)\n",
        "                #==================\n",
        "    #problst = [t.numpy() for t in prob]\n",
        "    epoch_acc = running_corrects.double()/(len(dataloaders['test'])*batch_size)\n",
        "    test_acc.append(epoch_acc)\n",
        "    epoch_loss = running_loss/(len(dataloaders['test'])*batch_size)\n",
        "    test_loss.append(epoch_loss)\n",
        "    print('Testset Accuracy {}'.format(epoch_acc))\n",
        "    print('Testset Loss {}'.format(epoch_loss))\n",
        "    return true,pred,image,true_wrong,pred_wrong, prob"
      ],
      "execution_count": null,
      "outputs": []
    },
    {
      "cell_type": "code",
      "metadata": {
        "id": "yQvIoj9GIXxT",
        "colab": {
          "base_uri": "https://localhost:8080/",
          "height": 51
        },
        "outputId": "4c9f5e0f-a274-4c2a-9720-7680f9ecc2da"
      },
      "source": [
        "model_ft = torch.load('model.h5')\n",
        "true,pred,image,true_wrong,pred_wrong, probl= test(model_ft, dataloaders['test'], device,batch_size=4)\n",
        "#model.eval()"
      ],
      "execution_count": null,
      "outputs": [
        {
          "output_type": "stream",
          "text": [
            "Testset Accuracy 0.9\n",
            "Testset Loss 0.3372337210012807\n"
          ],
          "name": "stdout"
        }
      ]
    },
    {
      "cell_type": "code",
      "metadata": {
        "id": "bAs6YwhcKU0P"
      },
      "source": [
        "fig = plt.figure(figsize=(20,10))\n",
        "plt.title(\"Test Accuracy/Loss\")\n",
        "plt.plot(test_acc, label='Testin Accuracy')\n",
        "plt.plot( test_loss, label='Test Loss')\n",
        "plt.xlabel('num_epochs', fontsize=12)\n",
        "plt.ylabel('accuracy', fontsize=12)\n",
        "plt.legend(loc='best')\n",
        "plt.grid()\n",
        "plt.show()"
      ],
      "execution_count": null,
      "outputs": []
    },
    {
      "cell_type": "code",
      "metadata": {
        "id": "DFcqraTEIXxW"
      },
      "source": [
        "import random\n",
        "import scipy.misc\n",
        "from PIL import Image\n",
        "\n",
        "p = 'cl/'\n",
        "def wrong_plot(n_figures,true,ima,pred,encoder,inv_normalize, probl):\n",
        "    print('Classes in order Actual and Predicted')\n",
        "    n_row = int(n_figures/3)\n",
        "    fig,axes = plt.subplots(figsize=(14, 10), nrows = n_row, ncols=3)\n",
        "    i=0\n",
        "    for ax in axes.flatten():\n",
        "        a = random.randint(0,len(true)-1)\n",
        "\n",
        "        image,correct,wrong, probabl = ima[a],true[a],pred[a], probl[a][0]\n",
        "        image = torch.from_numpy(image)\n",
        "        correct = int(correct)\n",
        "        c = encoder[correct]\n",
        "        wrong = int(wrong)\n",
        "        w = encoder[wrong]\n",
        "        #f = 'A:'+c + ',' +'P:'+w\n",
        "        #======================\n",
        "        f = 'A:'+c + ',' +'P:'+w+\" \"+ str(probabl)+\"%\"\n",
        "        #======================\n",
        "        if inv_normalize !=None:\n",
        "            image = inv_normalize(image)\n",
        "\n",
        "        image = image.numpy().transpose(1,2,0)\n",
        "        i += 1\n",
        "        #cv2.imwrite(os.path.join(p, c+str(i)+'.png'), image)\n",
        "        if c == 'NotAeAl':\n",
        "          plt.axis('off')\n",
        "          plt.title(c+'->'+w +\" \"+ str(probabl)+\"%\")\n",
        "          plt.imshow(image)\n",
        "          plt.show()\n",
        "        #im = ax.imshow(image)\n",
        "      #  ax.set_title(f)\n",
        "     #   ax.axis('off')\n",
        "    #plt.show()"
      ],
      "execution_count": null,
      "outputs": []
    },
    {
      "cell_type": "code",
      "metadata": {
        "id": "gwCnSDMyIXxZ"
      },
      "source": [
        "#probnp = [t.numpy() for t in probl]\n",
        "wrong_plot(12, true_wrong, image, pred_wrong, encoder, inv_normalize, probl)"
      ],
      "execution_count": null,
      "outputs": []
    }
  ]
}